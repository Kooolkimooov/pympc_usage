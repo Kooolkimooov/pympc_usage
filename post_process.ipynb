{
 "cells": [
  {
   "cell_type": "code",
   "id": "bbc75564e51cad8e",
   "metadata": {
    "ExecuteTime": {
     "end_time": "2025-01-28T20:48:56.230384Z",
     "start_time": "2025-01-28T20:48:56.226197Z"
    }
   },
   "source": [
    "import json as json\n",
    "import pathlib as pl\n",
    "from copy import deepcopy\n",
    "from datetime import datetime\n",
    "from gc import collect\n",
    "from os import path, system\n",
    "from warnings import simplefilter\n",
    "\n",
    "import matplotlib.pyplot as plt\n",
    "from matplotlib import rcParams\n",
    "from numpy import array, linspace, meshgrid, ones, zeros\n",
    "from numpy.linalg import norm\n",
    "from scipy.spatial.transform import Rotation\n",
    "from tqdm import tqdm\n",
    "from pandas import read_csv\n",
    "\n",
    "from pympc.models.dynamics.catenary import Catenary\n",
    "from pympc.models.dynamics.seafloor import SeafloorFromFunction\n",
    "from pympc.utils import check, compare_dict, gif_from_pngs, print_dict\n",
    "\n",
    "simplefilter( 'ignore', RuntimeWarning )\n",
    "\n",
    "gain = 1.5\n",
    "rcParams[ 'figure.figsize' ] = [ gain * 6.4, gain * 4.8 / 2 ]\n",
    "# rcParams['figure.facecolor'] = 'black'\n",
    "# rcParams['axes.edgecolor'] = 'white'\n",
    "# rcParams['axes.facecolor'] = 'black'\n",
    "# rcParams['axes.labelcolor'] = 'white'\n",
    "# rcParams['xtick.color'] = 'white'\n",
    "# rcParams['ytick.color'] = 'white'\n",
    "# rcParams['legend.labelcolor'] = 'white'\n",
    "# rcParams['legend.facecolor'] = 'black'"
   ],
   "outputs": [],
   "execution_count": 45
  },
  {
   "cell_type": "code",
   "id": "3423fed8fb41d212",
   "metadata": {
    "ExecuteTime": {
     "end_time": "2025-01-28T20:48:56.282720Z",
     "start_time": "2025-01-28T20:48:56.278078Z"
    }
   },
   "source": [
    "files = list( pl.Path( \"./export\" ).glob( '*' ) )\n",
    "files.sort( key = lambda x: path.getctime( x ) )\n",
    "for v in files:\n",
    "  print( str( v ).split( '//' )[ -1 ], end = '\\t' )\n",
    "  print( datetime.fromtimestamp( path.getctime( v ) ) )"
   ],
   "outputs": [
    {
     "name": "stdout",
     "output_type": "stream",
     "text": [
      "export\\three_robots_chain_1726157070\t2025-01-22 17:06:29.134157\n",
      "export\\three_robots_chain_1726514783\t2025-01-22 17:06:29.162731\n",
      "export\\three_robots_chain_with_fixed_end_1726429003\t2025-01-22 17:06:29.173252\n",
      "export\\three_robots_chain_with_fixed_end_1726554218\t2025-01-22 17:06:29.185844\n",
      "export\\1732024220.csv\t2025-01-22 17:27:45.720932\n",
      "export\\config.json\t2025-01-22 17:27:45.749478\n",
      "export\\Figure_1.png\t2025-01-22 17:27:47.085018\n",
      "export\\pretty_config.json\t2025-01-22 17:27:47.090524\n",
      "export\\chain_of_four_1730371997\t2025-01-22 17:27:47.093531\n",
      "export\\chain_of_four_1730384599\t2025-01-22 17:32:37.135312\n",
      "export\\chain_of_four_1731930190\t2025-01-22 17:37:18.872407\n",
      "export\\chain_of_four_1732006722\t2025-01-22 17:42:19.389571\n",
      "export\\mpc_simulation_1732024220\t2025-01-22 17:46:58.991878\n"
     ]
    }
   ],
   "execution_count": 46
  },
  {
   "cell_type": "code",
   "id": "d1c7f814bc8576b9",
   "metadata": {
    "ExecuteTime": {
     "end_time": "2025-01-28T20:48:58.142153Z",
     "start_time": "2025-01-28T20:48:56.402537Z"
    }
   },
   "source": [
    "compare_folder_0 = pl.Path( './export/mpc_simulation_1732024220' )\n",
    "compare_folder_1 = pl.Path( './export/chain_of_four_1732006722' )\n",
    "with open( compare_folder_0 / 'config.json' ) as f0:\n",
    "  with open( compare_folder_1 / 'config.json' ) as f1:\n",
    "    compare_config_0 = json.load( f0 )\n",
    "    compare_config_1 = json.load( f1 )\n",
    "    print( '\\t', compare_folder_0, '\\t', compare_folder_1, flush = True )\n",
    "    compare_dict( compare_config_0, compare_config_1, only_diff = True )"
   ],
   "outputs": [
    {
     "name": "stdout",
     "output_type": "stream",
     "text": [
      "\t export\\mpc_simulation_1732024220 \t export\\chain_of_four_1732006722\n",
      "\u001B[1;41mmodel <class 'dict'> \u001B[0m:\n",
      "\t\u001B[1;41mdynamics <class 'dict'> \u001B[0m:\n",
      "\t\t\u001B[1;41msf <class 'dict'> \u001B[0m:\n",
      "\t\t\t\u001B[1;41mseafloor_function <class 'str'> \u001B[0m: def seaflo def seaflo\n",
      "\t\t\u001B[1;41mbr_0 <class 'dict'> \u001B[0m:\n",
      "\t\t\t\u001B[1;41mbuild_transformation_matrix <class 'str'> \u001B[0m: \t@staticme \t@staticme\n",
      "\t\t\u001B[1;41mbr_2 <class 'dict'> \u001B[0m:\n",
      "\t\t\t\u001B[1;41mbuild_transformation_matrix <class 'str'> \u001B[0m: \t@staticme \t@staticme\n",
      "\t\t\u001B[1;41mbr_1 <class 'dict'> \u001B[0m:\n",
      "\t\t\t\u001B[1;41mbuild_transformation_matrix <class 'str'> \u001B[0m: \t@staticme \t@staticme\n",
      "\u001B[1;41msave_rate <class 'int'> \u001B[0m: 5 0\n",
      "\u001B[1;41mtarget_trajectory <class 'list'> \u001B[0m: 1000 400\n"
     ]
    }
   ],
   "execution_count": 47
  },
  {
   "cell_type": "code",
   "id": "255543fd4fdeac13",
   "metadata": {
    "ExecuteTime": {
     "end_time": "2025-01-28T20:48:58.183265Z",
     "start_time": "2025-01-28T20:48:58.180418Z"
    }
   },
   "source": [
    "print( compare_config_0[ 'model' ][ 'dynamics' ][ 'br_0' ][ 'build_transformation_matrix' ] )"
   ],
   "outputs": [
    {
     "name": "stdout",
     "output_type": "stream",
     "text": [
      "\t@staticmethod\n",
      "\tdef build_transformation_matrix( phi: float, theta: float, psi: float ) -> ndarray:\n",
      "\t\tcPsi, sPsi = cos( psi ), sin( psi )\n",
      "\n",
      "\t\tmatrix = eye( 6 )\n",
      "\t\tmatrix[ 0, 0 ] = cPsi\n",
      "\t\tmatrix[ 0, 1 ] = -sPsi\n",
      "\t\tmatrix[ 1, 0 ] = sPsi\n",
      "\t\tmatrix[ 1, 1 ] = cPsi\n",
      "\n",
      "\t\treturn matrix\n",
      "\n"
     ]
    }
   ],
   "execution_count": 48
  },
  {
   "cell_type": "code",
   "id": "ee369b87390cc54a",
   "metadata": {
    "ExecuteTime": {
     "end_time": "2025-01-28T20:48:59.281357Z",
     "start_time": "2025-01-28T20:48:58.320063Z"
    }
   },
   "source": [
    "folder = pl.Path( './export/mpc_simulation_1732024220' )\n",
    "uuid = str( folder ).split( '_' )[ -1 ]\n",
    "with open( folder / 'config.json' ) as f:\n",
    "  config = json.load( f )\n",
    "print_dict( config )"
   ],
   "outputs": [
    {
     "name": "stdout",
     "output_type": "stream",
     "text": [
      "predict <class 'str'> : \tdef _pred ...\n",
      "get_actuation <class 'str'> : \tdef _get_ ...\n",
      "get_result <class 'str'> : \tdef _get_ ...\n",
      "model <class 'dict'> :\n",
      "\tdynamics <class 'dict'> :\n",
      "\t\tbr_0 <class 'dict'> :\n",
      "\t\t\tstate_size <class 'int'> : 12\n",
      "\t\t\tpose_size <class 'int'> : 6\n",
      "\t\t\tactuation_size <class 'int'> : 4\n",
      "\t\t\tlinear_actuation_size <class 'int'> : 3\n",
      "\t\t\tbuild_transformation_matrix <class 'str'> : \t@staticme ...\n",
      "\t\t\tbuild_inertial_matrix <class 'str'> : \t@staticme ...\n",
      "\t\t\tmass <class 'float'> : 11.5\n",
      "\t\t\tcenter_of_mass <class 'list'> : [0.0, 0.0, 0.0]\n",
      "\t\t\tweight <class 'list'> : [0.0, 0.0, 112.77647499999999]\n",
      "\t\t\tvolume <class 'float'> : 0.0134\n",
      "\t\t\tcenter_of_volume <class 'list'> : [0.0, 0.0, -0.01]\n",
      "\t\t\tbuoyancy <class 'list'> : [-0.0, -0.0, -131.01488267000002]\n",
      "\t\t\twater_surface_depth <class 'float'> : 0.0\n",
      "\t\t\twater_current <class 'list'> : [0.5, 0.5, 0.0, 0.0, 0.0, 0.0]\n",
      "\t\t\tinertial_coefficients <class 'list'> : [0.26, 0.23, 0.37, 0.0, 0.0, 0.0]\n",
      "\t\t\thydrodynamic_coefficients <class 'list'> : [13.7, 0.0, 33.0, 0.0, 0.8, 0.0]\n",
      "\t\t\tadded_mass_coefficients <class 'list'> : [6.36, 7.12, 18.68, 0.189, 0.135, 0.222]\n",
      "\t\t\tinertial_matrix <class 'list'> : (6, 6)\n",
      "\t\t\tinverse_inertial_matrix <class 'list'> : (6, 6)\n",
      "\t\t\thydrodynamic_matrix <class 'list'> : (6, 6)\n",
      "\t\t\tinstance_of <class 'str'> : BluerovXYZ ...\n",
      "\t\tc_01 <class 'dict'> :\n",
      "\t\t\tlength <class 'float'> : 3.0\n",
      "\t\t\tlinear_mass <class 'float'> : 0.01\n",
      "\t\t\toptimization_function <class 'str'> : \t@staticme ...\n",
      "\t\t\tget_parameters <class 'str'> : \tdef get_p ...\n",
      "\t\t\tvertical_multiplier <class 'float'> : -1.0\n",
      "\t\t\tGET_PARAMETER_METHOD <class 'list'> : ['runtime', 'precompute']\n",
      "\t\t\tREFERENCE_FRAME <class 'list'> : ['NED', 'ENU']\n",
      "\t\t\tget_lowest_point <class 'str'> : \tdef get_l ...\n",
      "\t\t\tget_perturbations <class 'str'> : \tdef get_p ...\n",
      "\t\t\tdiscretize <class 'str'> : \tdef discr ...\n",
      "\t\t\tinstance_of <class 'str'> : Catenary\n",
      "\t\tbr_1 <class 'dict'> :\n",
      "\t\t\tstate_size <class 'int'> : 12\n",
      "\t\t\tpose_size <class 'int'> : 6\n",
      "\t\t\tactuation_size <class 'int'> : 4\n",
      "\t\t\tlinear_actuation_size <class 'int'> : 3\n",
      "\t\t\tbuild_transformation_matrix <class 'str'> : \t@staticme ...\n",
      "\t\t\tbuild_inertial_matrix <class 'str'> : \t@staticme ...\n",
      "\t\t\tmass <class 'float'> : 11.5\n",
      "\t\t\tcenter_of_mass <class 'list'> : [0.0, 0.0, 0.0]\n",
      "\t\t\tweight <class 'list'> : [0.0, 0.0, 112.77647499999999]\n",
      "\t\t\tvolume <class 'float'> : 0.0134\n",
      "\t\t\tcenter_of_volume <class 'list'> : [0.0, 0.0, -0.01]\n",
      "\t\t\tbuoyancy <class 'list'> : [-0.0, -0.0, -131.01488267000002]\n",
      "\t\t\twater_surface_depth <class 'float'> : 0.0\n",
      "\t\t\twater_current <class 'list'> : [0.5, 0.5, 0.0, 0.0, 0.0, 0.0]\n",
      "\t\t\tinertial_coefficients <class 'list'> : [0.26, 0.23, 0.37, 0.0, 0.0, 0.0]\n",
      "\t\t\thydrodynamic_coefficients <class 'list'> : [13.7, 0.0, 33.0, 0.0, 0.8, 0.0]\n",
      "\t\t\tadded_mass_coefficients <class 'list'> : [6.36, 7.12, 18.68, 0.189, 0.135, 0.222]\n",
      "\t\t\tinertial_matrix <class 'list'> : (6, 6)\n",
      "\t\t\tinverse_inertial_matrix <class 'list'> : (6, 6)\n",
      "\t\t\thydrodynamic_matrix <class 'list'> : (6, 6)\n",
      "\t\t\tinstance_of <class 'str'> : BluerovXYZ ...\n",
      "\t\tc_12 <class 'dict'> :\n",
      "\t\t\tlength <class 'float'> : 3.0\n",
      "\t\t\tlinear_mass <class 'float'> : 0.01\n",
      "\t\t\toptimization_function <class 'str'> : \t@staticme ...\n",
      "\t\t\tget_parameters <class 'str'> : \tdef get_p ...\n",
      "\t\t\tvertical_multiplier <class 'float'> : -1.0\n",
      "\t\t\tGET_PARAMETER_METHOD <class 'list'> : ['runtime', 'precompute']\n",
      "\t\t\tREFERENCE_FRAME <class 'list'> : ['NED', 'ENU']\n",
      "\t\t\tget_lowest_point <class 'str'> : \tdef get_l ...\n",
      "\t\t\tget_perturbations <class 'str'> : \tdef get_p ...\n",
      "\t\t\tdiscretize <class 'str'> : \tdef discr ...\n",
      "\t\t\tinstance_of <class 'str'> : Catenary\n",
      "\t\tbr_2 <class 'dict'> :\n",
      "\t\t\tstate_size <class 'int'> : 12\n",
      "\t\t\tpose_size <class 'int'> : 6\n",
      "\t\t\tactuation_size <class 'int'> : 4\n",
      "\t\t\tlinear_actuation_size <class 'int'> : 3\n",
      "\t\t\tbuild_transformation_matrix <class 'str'> : \t@staticme ...\n",
      "\t\t\tbuild_inertial_matrix <class 'str'> : \t@staticme ...\n",
      "\t\t\tmass <class 'float'> : 11.5\n",
      "\t\t\tcenter_of_mass <class 'list'> : [0.0, 0.0, 0.0]\n",
      "\t\t\tweight <class 'list'> : [0.0, 0.0, 112.77647499999999]\n",
      "\t\t\tvolume <class 'float'> : 0.0134\n",
      "\t\t\tcenter_of_volume <class 'list'> : [0.0, 0.0, -0.01]\n",
      "\t\t\tbuoyancy <class 'list'> : [-0.0, -0.0, -131.01488267000002]\n",
      "\t\t\twater_surface_depth <class 'float'> : 0.0\n",
      "\t\t\twater_current <class 'list'> : [0.5, 0.5, 0.0, 0.0, 0.0, 0.0]\n",
      "\t\t\tinertial_coefficients <class 'list'> : [0.26, 0.23, 0.37, 0.0, 0.0, 0.0]\n",
      "\t\t\thydrodynamic_coefficients <class 'list'> : [13.7, 0.0, 33.0, 0.0, 0.8, 0.0]\n",
      "\t\t\tadded_mass_coefficients <class 'list'> : [6.36, 7.12, 18.68, 0.189, 0.135, 0.222]\n",
      "\t\t\tinertial_matrix <class 'list'> : (6, 6)\n",
      "\t\t\tinverse_inertial_matrix <class 'list'> : (6, 6)\n",
      "\t\t\thydrodynamic_matrix <class 'list'> : (6, 6)\n",
      "\t\t\tinstance_of <class 'str'> : BluerovXYZ ...\n",
      "\t\tc_23 <class 'dict'> :\n",
      "\t\t\tlength <class 'float'> : 3.0\n",
      "\t\t\tlinear_mass <class 'float'> : 0.01\n",
      "\t\t\toptimization_function <class 'str'> : \t@staticme ...\n",
      "\t\t\tget_parameters <class 'str'> : \tdef get_p ...\n",
      "\t\t\tvertical_multiplier <class 'float'> : -1.0\n",
      "\t\t\tGET_PARAMETER_METHOD <class 'list'> : ['runtime', 'precompute']\n",
      "\t\t\tREFERENCE_FRAME <class 'list'> : ['NED', 'ENU']\n",
      "\t\t\tget_lowest_point <class 'str'> : \tdef get_l ...\n",
      "\t\t\tget_perturbations <class 'str'> : \tdef get_p ...\n",
      "\t\t\tdiscretize <class 'str'> : \tdef discr ...\n",
      "\t\t\tinstance_of <class 'str'> : Catenary\n",
      "\t\tbr_3 <class 'dict'> :\n",
      "\t\t\tstate_size <class 'int'> : 12\n",
      "\t\t\tpose_size <class 'int'> : 6\n",
      "\t\t\tactuation_size <class 'int'> : 2\n",
      "\t\t\tlinear_actuation_size <class 'int'> : 1\n",
      "\t\t\tbuild_transformation_matrix <class 'str'> : \t@staticme ...\n",
      "\t\t\tbuild_inertial_matrix <class 'str'> : \t@staticme ...\n",
      "\t\t\tmass <class 'float'> : 11.5\n",
      "\t\t\tcenter_of_mass <class 'list'> : [0.0, 0.0, 0.0]\n",
      "\t\t\tweight <class 'list'> : [0.0, 0.0, 112.77647499999999]\n",
      "\t\t\tvolume <class 'float'> : 0.0134\n",
      "\t\t\tcenter_of_volume <class 'list'> : [0.0, 0.0, -0.01]\n",
      "\t\t\tbuoyancy <class 'list'> : [-0.0, -0.0, -131.01488267000002]\n",
      "\t\t\twater_surface_depth <class 'float'> : 0.0\n",
      "\t\t\twater_current <class 'list'> : [0.0, 0.0, 0.0, 0.0, 0.0, 0.0]\n",
      "\t\t\tinertial_coefficients <class 'list'> : [0.26, 0.23, 0.37, 0.0, 0.0, 0.0]\n",
      "\t\t\thydrodynamic_coefficients <class 'list'> : [13.7, 0.0, 33.0, 0.0, 0.8, 0.0]\n",
      "\t\t\tadded_mass_coefficients <class 'list'> : [6.36, 7.12, 18.68, 0.189, 0.135, 0.222]\n",
      "\t\t\tinertial_matrix <class 'list'> : (6, 6)\n",
      "\t\t\tinverse_inertial_matrix <class 'list'> : (6, 6)\n",
      "\t\t\thydrodynamic_matrix <class 'list'> : (6, 6)\n",
      "\t\t\tinstance_of <class 'str'> : USV\n",
      "\t\tsf <class 'dict'> :\n",
      "\t\t\tget_distance_to_seafloor <class 'str'> : \tdef get_d ...\n",
      "\t\t\tget_seafloor_depth <class 'str'> : \tdef get_s ...\n",
      "\t\t\tseafloor_function <class 'str'> : def seaflo ...\n",
      "\t\t\tinstance_of <class 'str'> : SeafloorFr ...\n",
      "\t\tlast_perturbation_01_0 <class 'list'> : [0.0, 0.0, 0.0, 0.0, 0.0, 0.0]\n",
      "\t\tlast_perturbation_01_1 <class 'list'> : [0.0, 0.0, 0.0, 0.0, 0.0, 0.0]\n",
      "\t\tlast_perturbation_12_1 <class 'list'> : [0.0, 0.0, 0.0, 0.0, 0.0, 0.0]\n",
      "\t\tlast_perturbation_12_2 <class 'list'> : [0.0, 0.0, 0.0, 0.0, 0.0, 0.0]\n",
      "\t\tlast_perturbation_23_2 <class 'list'> : [0.0, 0.0, 0.0, 0.0, 0.0, 0.0]\n",
      "\t\tlast_perturbation_23_3 <class 'list'> : [0.0, 0.0, 0.0, 0.0, 0.0, 0.0]\n",
      "\t\tbr_0_pose <class 'str'> : 0:6:None\n",
      "\t\tbr_0_position <class 'str'> : 0:3:None\n",
      "\t\tbr_0_xy <class 'str'> : 0:2:None\n",
      "\t\tbr_0_z <class 'int'> : 2\n",
      "\t\tbr_0_orientation <class 'str'> : 3:6:None\n",
      "\t\tbr_1_pose <class 'str'> : 6:12:None\n",
      "\t\tbr_1_position <class 'str'> : 6:9:None\n",
      "\t\tbr_1_xy <class 'str'> : 6:8:None\n",
      "\t\tbr_1_z <class 'int'> : 8\n",
      "\t\tbr_1_orientation <class 'str'> : 9:12:None\n",
      "\t\tbr_2_pose <class 'str'> : 12:18:None\n",
      "\t\tbr_2_position <class 'str'> : 12:15:None\n",
      "\t\tbr_2_xy <class 'str'> : 12:14:None\n",
      "\t\tbr_2_z <class 'int'> : 14\n",
      "\t\tbr_2_orientation <class 'str'> : 15:18:None\n",
      "\t\tbr_3_pose <class 'str'> : 18:24:None\n",
      "\t\tbr_3_position <class 'str'> : 18:21:None\n",
      "\t\tbr_3_xy <class 'str'> : 18:20:None\n",
      "\t\tbr_3_z <class 'int'> : 20\n",
      "\t\tbr_3_orientation <class 'str'> : 21:24:None\n",
      "\t\tbr_0_speed <class 'str'> : 24:30:None\n",
      "\t\tbr_0_linear_speed <class 'str'> : 24:27:None\n",
      "\t\tbr_0_angular_speed <class 'str'> : 27:30:None\n",
      "\t\tbr_1_speed <class 'str'> : 30:36:None\n",
      "\t\tbr_1_linear_speed <class 'str'> : 30:33:None\n",
      "\t\tbr_1_angular_speed <class 'str'> : 33:36:None\n",
      "\t\tbr_2_speed <class 'str'> : 36:42:None\n",
      "\t\tbr_2_linear_speed <class 'str'> : 36:39:None\n",
      "\t\tbr_2_angular_speed <class 'str'> : 39:42:None\n",
      "\t\tbr_3_speed <class 'str'> : 42:48:None\n",
      "\t\tbr_3_linear_speed <class 'str'> : 42:45:None\n",
      "\t\tbr_3_angular_speed <class 'str'> : 45:48:None\n",
      "\t\tbr_0_actuation_start <class 'int'> : 0\n",
      "\t\tbr_0_actuation <class 'str'> : 0:4:None\n",
      "\t\tbr_0_linear_actuation <class 'str'> : 0:3:None\n",
      "\t\tbr_0_angular_actuation <class 'str'> : 3:4:None\n",
      "\t\tbr_1_actuation_start <class 'int'> : 4\n",
      "\t\tbr_1_actuation <class 'str'> : 4:8:None\n",
      "\t\tbr_1_linear_actuation <class 'str'> : 4:7:None\n",
      "\t\tbr_1_angular_actuation <class 'str'> : 7:8:None\n",
      "\t\tbr_2_actuation_start <class 'int'> : 8\n",
      "\t\tbr_2_actuation <class 'str'> : 8:12:None\n",
      "\t\tbr_2_linear_actuation <class 'str'> : 8:11:None\n",
      "\t\tbr_2_angular_actuation <class 'str'> : 11:12:None\n",
      "\t\tbr_3_actuation_start <class 'int'> : 12\n",
      "\t\tbr_3_actuation <class 'str'> : 12:14:None\n",
      "\t\tbr_3_linear_actuation <class 'str'> : 12:13:None\n",
      "\t\tbr_3_angular_actuation <class 'str'> : 13:14:None\n",
      "\t\tbr_0_state <class 'list'> : (12,)\n",
      "\t\tbr_1_state <class 'list'> : (12,)\n",
      "\t\tbr_2_state <class 'list'> : (12,)\n",
      "\t\tbr_3_state <class 'list'> : (12,)\n",
      "\t\tstate_size <class 'int'> : 48\n",
      "\t\tactuation_size <class 'int'> : 14\n",
      "\t\tget_taunt_cable_perturbations <class 'str'> : \tdef get_t ...\n",
      "\t\tinstance_of <class 'str'> : ChainOf4\n",
      "\ttime_step <class 'float'> : 0.1\n",
      "\tstate <class 'list'> : (48,)\n",
      "\tactuation <class 'list'> : (14,)\n",
      "\trecord <class 'bool'> : True\n",
      "\tprevious_states <class 'list'> : (1, 48)\n",
      "\tprevious_actuations <class 'list'> : (1, 14)\n",
      "\tstep <class 'str'> : \tdef step( ...\n",
      "\tinstance_of <class 'str'> : Model\n",
      "horizon <class 'int'> : 5\n",
      "target_trajectory <class 'list'> : (1000, 1, 24)\n",
      "objective <class 'str'> : def chain_ ...\n",
      "time_step_prediction_factor <class 'int'> : 2\n",
      "time_step <class 'float'> : 0.1\n",
      "time_steps_per_actuation <class 'int'> : 5\n",
      "guess_from_last_solution <class 'bool'> : True\n",
      "tolerance <class 'float'> : 1e-06\n",
      "max_number_of_iteration <class 'int'> : 100\n",
      "bounds <class 'NoneType'> : None\n",
      "constraints <class 'list'> :\n",
      "\t0 <class 'dict'> :\n",
      "\t\tfun <class 'str'> : def chain_ ...\n",
      "\t\tlb <class 'list'> : (65,)\n",
      "\t\tub <class 'list'> : (65,)\n",
      "\t\tfinite_diff_rel_step <class 'NoneType'> : None\n",
      "\t\tfinite_diff_jac_sparsity <class 'NoneType'> : None\n",
      "\t\tjac <class 'str'> : 2-point\n",
      "\t\thess <class 'dict'> :\n",
      "\t\t\tinitialize <class 'str'> :     def in ...\n",
      "\t\t\tupdate <class 'str'> :     def up ...\n",
      "\t\t\tdot <class 'str'> :     def do ...\n",
      "\t\t\tget_matrix <class 'str'> :     def ge ...\n",
      "\t\t\tmin_curvature <class 'float'> : 1e-08\n",
      "\t\t\tinit_scale <class 'str'> : auto\n",
      "\t\t\tfirst_iteration <class 'NoneType'> : None\n",
      "\t\t\tapprox_type <class 'NoneType'> : None\n",
      "\t\t\tB <class 'NoneType'> : None\n",
      "\t\t\tH <class 'NoneType'> : None\n",
      "\t\t\texception_strategy <class 'str'> : skip_updat ...\n",
      "\t\t\tinstance_of <class 'str'> : BFGS\n",
      "\t\tkeep_feasible <class 'bool'> : False\n",
      "\t\tvalue_labels <class 'list'> : (13,)\n",
      "\t\tlabels <class 'list'> : (13,)\n",
      "\t\tinstance_of <class 'str'> : NonlinearC ...\n",
      "result_shape <class 'list'> : [1, 1, 14]\n",
      "raw_result <class 'dict'> :\n",
      "\tx <class 'list'> : (1, 1, 14)\n",
      "result <class 'list'> : (14,)\n",
      "pose_weight_matrix <class 'list'> : (5, 24, 24)\n",
      "actuation_derivative_weight_matrix <class 'list'> : (5, 14, 14)\n",
      "objective_weight <class 'float'> : 0.01\n",
      "final_weight <class 'float'> : 0.0\n",
      "best_cost <class 'float'> : inf\n",
      "best_candidate <class 'list'> : (1, 1, 14)\n",
      "record <class 'bool'> : True\n",
      "predicted_trajectories <class 'list'> : []\n",
      "candidate_actuations <class 'list'> : []\n",
      "compute_times <class 'list'> : []\n",
      "verbose <class 'bool'> : False\n",
      "constraints_function <class 'str'> : def chain_ ...\n",
      "os <class 'str'> : Windows\n",
      "os_release <class 'str'> : 11\n",
      "os_version <class 'str'> : 10.0.22631\n",
      "cpu <class 'dict'> :\n",
      "\tpython_version <class 'str'> : 3.12.6.fin ...\n",
      "\tcpuinfo_version <class 'list'> : [9, 0, 0]\n",
      "\tcpuinfo_version_string <class 'str'> : 9.0.0\n",
      "\tarch <class 'str'> : X86_64\n",
      "\tbits <class 'int'> : 64\n",
      "\tcount <class 'int'> : 12\n",
      "\tarch_string_raw <class 'str'> : AMD64\n",
      "\tvendor_id_raw <class 'str'> : GenuineInt ...\n",
      "\tbrand_raw <class 'str'> : 12th Gen I ...\n",
      "\thz_actual_friendly <class 'str'> : 1.8000 GHz\n",
      "\thz_actual <class 'list'> : [1800000000, 0]\n",
      "\tl2_cache_size <class 'int'> : 6815744\n",
      "\tstepping <class 'int'> : 4\n",
      "\tmodel <class 'int'> : 154\n",
      "\tfamily <class 'int'> : 6\n",
      "\tl3_cache_size <class 'int'> : 12582912\n",
      "\thz_advertised_friendly <class 'str'> : 2.6880 GHz\n",
      "\thz_advertised <class 'list'> : [2688000000, 0]\n",
      "\tflags <class 'list'> : (76,)\n",
      "\tl2_cache_line_size <class 'int'> : 1280\n",
      "\tl2_cache_associativity <class 'int'> : 7\n",
      "save_rate <class 'int'> : 5\n"
     ]
    }
   ],
   "execution_count": 49
  },
  {
   "cell_type": "code",
   "id": "e41a877a5d6a4b88",
   "metadata": {
    "ExecuteTime": {
     "end_time": "2025-01-28T20:48:59.365635Z",
     "start_time": "2025-01-28T20:48:59.358513Z"
    }
   },
   "source": [
    "slice_repository = { }\n",
    "axes = [ 'x', 'y', 'z', 'phi', 'theta', 'psi', 'u', 'v', 'w', 'p', 'q', 'r' ]\n",
    "\n",
    "for k, v in config[ 'model' ][ 'dynamics' ].items():\n",
    "  if isinstance( v, str ) and '\\n' not in v and ':' in v:\n",
    "    slice_repository[ k ] = slice( *[ int( v ) if v != 'None' else None for v in v.split( ':' ) ] )\n",
    "  elif isinstance( v, int ) and 'br_' in k:\n",
    "    slice_repository[ k ] = v\n",
    "\n",
    "pose = { k: v for k, v in slice_repository.items() if 'pose' in k }\n",
    "positions = { k: v for k, v in slice_repository.items() if 'position' in k }\n",
    "orientations = { k: v for k, v in slice_repository.items() if 'orientation' in k }\n",
    "positions_pairs = { '_'.join( a.split( '_' )[ :2 ] ): '_'.join( b.split( '_' )[ :2 ] ) for a, b in\n",
    "                    zip( list( positions )[ :-1 ], list( positions )[ 1: ] ) }\n",
    "speeds = { k: v for k, v in slice_repository.items() if 'linear_speed' in k }\n",
    "linear_actuation = { k: v for k, v in slice_repository.items() if 'linear_actuation' in k }\n",
    "angular_actuation = { k: v for k, v in slice_repository.items() if 'angular_actuation' in k }\n",
    "\n",
    "times = [ config[ 'model' ][ 'time_step' ] * i for i in range( len( config[ 'target_trajectory' ] ) ) ]\n",
    "\n",
    "target_trajectory = array( config[ 'target_trajectory' ] )[ :, 0 ]\n",
    "\n",
    "pose_weight = array( config[ 'pose_weight_matrix' ][ 0 ] )\n",
    "\n",
    "save_rate = config.get( 'save_rate', 1 )\n",
    "\n",
    "seafloor_config = config[ 'model' ][ 'dynamics' ][ 'sf' ]\n",
    "if seafloor_config[ 'instance_of' ] == 'SeafloorFromFunction':\n",
    "  exec( seafloor_config[ 'seafloor_function' ] )\n",
    "  seafloor = SeafloorFromFunction(\n",
    "      globals()[ seafloor_config[ 'seafloor_function' ].split( '\\n' )[ 0 ][ 4: ].split( '(' )[ 0 ] ]\n",
    "      )\n",
    "else:\n",
    "  raise NotImplementedError"
   ],
   "outputs": [],
   "execution_count": 50
  },
  {
   "cell_type": "code",
   "id": "83ea0a6d13a78b37",
   "metadata": {
    "ExecuteTime": {
     "end_time": "2025-01-28T20:48:59.446876Z",
     "start_time": "2025-01-28T20:48:59.443030Z"
    }
   },
   "source": [
    "for i, c in enumerate( config[ 'constraints' ] ):\n",
    "  c = c.get( 'constraint', c )\n",
    "  for j, (lb, ub, label, vlabel) in enumerate( zip( c[ 'lb' ], c[ 'ub' ], c[ 'labels' ], c[ 'value_labels' ] ) ):\n",
    "    print( f'{(i + 1) * j}.\\t{label}: {lb}\\t<=\\t{vlabel}\\t<=\\t{ub}' )"
   ],
   "outputs": [
    {
     "name": "stdout",
     "output_type": "stream",
     "text": [
      "0.\tseafloor: 0.2\t<=\tc_01_distance_to_seafloor\t<=\tinf\n",
      "1.\tseafloor: 0.2\t<=\tc_12_distance_to_seafloor\t<=\tinf\n",
      "2.\tseafloor: 0.2\t<=\tc_23_distance_to_seafloor\t<=\tinf\n",
      "3.\tseafloor: 0.2\t<=\tbr_0_distance_to_seafloor\t<=\tinf\n",
      "4.\tseafloor: 0.2\t<=\tbr_1_distance_to_seafloor\t<=\tinf\n",
      "5.\tseafloor: 0.2\t<=\tbr_2_distance_to_seafloor\t<=\tinf\n",
      "6.\tseafloor: 0.2\t<=\tbr_3_distance_to_seafloor\t<=\tinf\n",
      "7.\tcable_length: 0.2\t<=\tbr_0_br_1_horizontal_distance\t<=\t2.8\n",
      "8.\tcable_length: 0.2\t<=\tbr_1_br_2_horizontal_distance\t<=\t2.8\n",
      "9.\tcable_length: 0.2\t<=\tbr_2_br_3_horizontal_distance\t<=\t2.8\n",
      "10.\tcable_length: -inf\t<=\tbr_0_br_1_distance\t<=\t2.8\n",
      "11.\tcable_length: -inf\t<=\tbr_1_br_2_distance\t<=\t2.8\n",
      "12.\tcable_length: -inf\t<=\tbr_2_br_3_distance\t<=\t2.8\n"
     ]
    }
   ],
   "execution_count": 51
  },
  {
   "cell_type": "code",
   "id": "252ce6f553188374",
   "metadata": {
    "ExecuteTime": {
     "end_time": "2025-01-28T20:49:00.433152Z",
     "start_time": "2025-01-28T20:48:59.561338Z"
    }
   },
   "source": [
    "data_files = [ file for file in list( folder.glob( 'data/*' ) ) if path.isfile( file ) ]\n",
    "data_files.sort( key = lambda x: path.getmtime( x ) )\n",
    "n_frames = len( data_files ) * save_rate\n",
    "get_last_file = True  # to avoid reading while python is writing\n",
    "back_offset = 1 * save_rate if not get_last_file else 0\n",
    "\n",
    "with open( data_files[ -1 ] ) as f:\n",
    "  final_state = json.load( f )\n",
    "\n",
    "previous_times = [ config[ 'model' ][ 'time_step' ] * i for i in range( n_frames - back_offset ) ]\n",
    "previous_target_trajectory = target_trajectory[ :n_frames - back_offset ]\n",
    "previous_actual_trajectory = array( final_state[ 'model' ][ 'previous_states' ] )[ 1:,\n",
    "                             :config[ 'model' ][ 'dynamics' ][ 'state_size' ] ]\n",
    "previous_actuations = array( final_state[ 'model' ][ 'previous_actuations' ] )"
   ],
   "outputs": [],
   "execution_count": 52
  },
  {
   "cell_type": "code",
   "id": "179c0cc902a616f",
   "metadata": {
    "ExecuteTime": {
     "end_time": "2025-01-28T20:49:02.076960Z",
     "start_time": "2025-01-28T20:49:00.472327Z"
    }
   },
   "source": [
    "check( f'{folder}/plots' )"
   ],
   "outputs": [
    {
     "data": {
      "text/plain": [
       "24"
      ]
     },
     "execution_count": 53,
     "metadata": {},
     "output_type": "execute_result"
    }
   ],
   "execution_count": 53
  },
  {
   "cell_type": "code",
   "id": "608ffdcdd3d4fd98",
   "metadata": {
    "ExecuteTime": {
     "end_time": "2025-01-28T20:49:02.333268Z",
     "start_time": "2025-01-28T20:49:02.116469Z"
    }
   },
   "source": [
    "for k, v in positions.items():\n",
    "  if norm( pose_weight[ v, v ] ) == 0:\n",
    "    continue\n",
    "  absolute_distances = abs( previous_target_trajectory[ :, v ] - previous_actual_trajectory[ :, v ] )\n",
    "  plt.plot( previous_times, absolute_distances )\n",
    "  plt.legend(\n",
    "      [\n",
    "          r'over $\\mathbf{x}_w$-axis',\n",
    "          r'over $\\mathbf{y}_w$-axis',\n",
    "          r'over $\\mathbf{z}_w$-axis'\n",
    "          ]\n",
    "      )\n",
    "  plt.xlabel( 'time [s]' )\n",
    "  plt.ylabel( 'absolute error [m]' )\n",
    "  plt.subplots_adjust( bottom = 0.125, top = 1, left = 0.075, right = 1 )\n",
    "  plt.savefig( f'{folder}/plots/{k}_tracking_error_{uuid}.png', dpi = 300 )\n",
    "  plt.close( 'all' )"
   ],
   "outputs": [],
   "execution_count": 54
  },
  {
   "cell_type": "code",
   "id": "3cfcd0e3074aff59",
   "metadata": {
    "ExecuteTime": {
     "end_time": "2025-01-28T20:49:02.828068Z",
     "start_time": "2025-01-28T20:49:02.374031Z"
    }
   },
   "source": [
    "for k, v in orientations.items():\n",
    "  if norm( pose_weight[ v, v ] ) == 0:\n",
    "    continue\n",
    "  plt.plot( previous_times, abs( previous_target_trajectory[ :, v ] - previous_actual_trajectory[ :, v ] ) )\n",
    "  plt.legend(\n",
    "      [\n",
    "          r'around $\\mathbf{x}_w$-axis',\n",
    "          r'around $\\mathbf{y}_w$-axis',\n",
    "          r'around $\\mathbf{z}_w$-axis'\n",
    "          ]\n",
    "      )\n",
    "  plt.xlabel( 'time [s]' )\n",
    "  plt.ylabel( 'absolute error [rad]' )\n",
    "  plt.subplots_adjust( bottom = 0.125, top = 1, left = 0.075, right = 1 )\n",
    "  plt.savefig( f'{folder}/plots/{k}_tracking_error_{uuid}.png', dpi = 300 )\n",
    "  plt.close( 'all' )"
   ],
   "outputs": [],
   "execution_count": 55
  },
  {
   "cell_type": "code",
   "id": "d3ce72c654dc4014",
   "metadata": {
    "ExecuteTime": {
     "end_time": "2025-01-28T20:49:03.485757Z",
     "start_time": "2025-01-28T20:49:02.868881Z"
    }
   },
   "source": [
    "for k, v in linear_actuation.items():\n",
    "  plt.plot( previous_times, previous_actuations[ :-1, v ] )\n",
    "  plt.xlabel( 'time [s]' )\n",
    "  plt.ylabel( 'actuation [N]' )\n",
    "  plt.legend(\n",
    "      [\n",
    "          r'over $\\mathbf{x}_r$-axis',\n",
    "          r'over $\\mathbf{y}_r$-axis',\n",
    "          r'over $\\mathbf{z}_r$-axis'\n",
    "          ]\n",
    "      )\n",
    "  plt.subplots_adjust( bottom = 0.125, top = 1, left = 0.075, right = 1 )\n",
    "  plt.savefig( f'{folder}/plots/{k}_{uuid}.png', dpi = 300 )\n",
    "  plt.close( 'all' )"
   ],
   "outputs": [],
   "execution_count": 56
  },
  {
   "cell_type": "code",
   "id": "8e1cc090d6aeb520",
   "metadata": {
    "ExecuteTime": {
     "end_time": "2025-01-28T20:49:04.104670Z",
     "start_time": "2025-01-28T20:49:03.525878Z"
    }
   },
   "source": [
    "for k, v in angular_actuation.items():\n",
    "  plt.plot( previous_times, previous_actuations[ :-1, v ] )\n",
    "  plt.xlabel( 'time [s]' )\n",
    "  plt.ylabel( 'actuation [Nm]' )\n",
    "  plt.legend(\n",
    "      [\n",
    "          r'around $\\mathbf{x}_r$-axis',\n",
    "          r'around $\\mathbf{y}_r$-axis',\n",
    "          r'around $\\mathbf{z}_r$-axis'\n",
    "          ]\n",
    "      )\n",
    "  plt.subplots_adjust( bottom = 0.125, top = 1, left = 0.075, right = 1 )\n",
    "  plt.savefig( f'{folder}/plots/{k}_{uuid}.png', dpi = 300 )\n",
    "  plt.close( 'all' )"
   ],
   "outputs": [],
   "execution_count": 57
  },
  {
   "cell_type": "code",
   "id": "f24c7e7b52d28c00",
   "metadata": {
    "ExecuteTime": {
     "end_time": "2025-01-28T20:49:04.494486Z",
     "start_time": "2025-01-28T20:49:04.145188Z"
    }
   },
   "source": [
    "legends = [ ]\n",
    "for pair_1, pair_2 in positions_pairs.items():\n",
    "  position_1 = deepcopy( previous_actual_trajectory[ :, slice_repository[ pair_1 + '_position' ] ] )\n",
    "  position_2 = deepcopy( previous_actual_trajectory[ :, slice_repository[ pair_2 + '_position' ] ] )\n",
    "\n",
    "  lowest_points = zeros( (position_1.shape[ 0 ],) )\n",
    "  seafloor_points = zeros( (position_1.shape[ 0 ],) )\n",
    "\n",
    "  name = f'c_{pair_1.split( \"_\" )[ -1 ]}{pair_2.split( \"_\" )[ -1 ]}'\n",
    "  cat = Catenary(\n",
    "      config[ 'model' ][ 'dynamics' ][ name ][ 'length' ],\n",
    "      config[ 'model' ][ 'dynamics' ][ name ][ 'linear_mass' ]\n",
    "      )\n",
    "\n",
    "  for i, (p1, p2) in enumerate( zip( position_1, position_2 ) ):\n",
    "    lp = cat.get_lowest_point( p1, p2 )\n",
    "    lowest_points[ i ] = lp[ 2 ]\n",
    "    seafloor_points[ i ] = seafloor.get_seafloor_depth( lp )\n",
    "\n",
    "  plt.plot( previous_times, lowest_points )\n",
    "  plt.plot( previous_times, seafloor_points, ':' )\n",
    "  legends += [ name, f'seafloor beneath {name}' ]\n",
    "\n",
    "plt.legend( legends )\n",
    "plt.xlabel( 'time [s]' )\n",
    "plt.ylabel( 'distance [m]' )\n",
    "plt.subplots_adjust( bottom = 0.125, top = 1, left = 0.075, right = 1 )\n",
    "plt.gca().invert_yaxis()\n",
    "plt.savefig( f'{folder}/plots/lowest_points_{uuid}.png', dpi = 300 )\n",
    "plt.close( 'all' )"
   ],
   "outputs": [],
   "execution_count": 58
  },
  {
   "cell_type": "code",
   "id": "bcc5c58b0ed123b0",
   "metadata": {
    "ExecuteTime": {
     "end_time": "2025-01-28T20:49:04.705827Z",
     "start_time": "2025-01-28T20:49:04.557777Z"
    }
   },
   "source": [
    "for pair_1, pair_2 in positions_pairs.items():\n",
    "  absolute_distances = norm(\n",
    "      previous_actual_trajectory[ :, positions[ pair_1 + '_position' ] ] -\n",
    "      previous_actual_trajectory[ :, positions[ pair_2 + '_position' ] ],\n",
    "      axis = 1\n",
    "      )\n",
    "  plt.plot( previous_times, absolute_distances )\n",
    "plt.legend( [ f'from {a} to {b}' for a, b in positions_pairs.items() ] )\n",
    "plt.xlabel( 'time [s]' )\n",
    "plt.ylabel( 'distance [m]' )\n",
    "plt.subplots_adjust( bottom = 0.125, top = 1, left = 0.075, right = 1 )\n",
    "plt.savefig( f'{folder}/plots/distance_{uuid}.png', dpi = 300 )\n",
    "plt.close( 'all' )"
   ],
   "outputs": [],
   "execution_count": 59
  },
  {
   "cell_type": "code",
   "id": "5652214d517da19",
   "metadata": {
    "ExecuteTime": {
     "end_time": "2025-01-28T20:49:04.899023Z",
     "start_time": "2025-01-28T20:49:04.749240Z"
    }
   },
   "source": [
    "for p1, p2 in positions_pairs.items():\n",
    "  absolute_distances = norm(\n",
    "      previous_actual_trajectory[ :, slice_repository[ p1 + '_xy' ] ] -\n",
    "      previous_actual_trajectory[ :, slice_repository[ p2 + '_xy' ] ],\n",
    "      axis = 1\n",
    "      )\n",
    "  plt.plot( previous_times, absolute_distances )\n",
    "plt.legend( [ f'from {a} to {b}' for a, b in positions_pairs.items() ] )\n",
    "plt.xlabel( 'time [s]' )\n",
    "plt.ylabel( 'distance [m]' )\n",
    "plt.subplots_adjust( bottom = 0.125, top = 1, left = 0.075, right = 1 )\n",
    "plt.savefig( f'{folder}/plots/horizontal_distance_{uuid}.png', dpi = 300 )\n",
    "plt.close( 'all' )"
   ],
   "outputs": [],
   "execution_count": 60
  },
  {
   "cell_type": "code",
   "id": "5bcb8d886f34b586",
   "metadata": {
    "ExecuteTime": {
     "end_time": "2025-01-28T20:49:05.441501Z",
     "start_time": "2025-01-28T20:49:04.940506Z"
    }
   },
   "source": [
    "figs = [ 'x', 'y', 'z' ]\n",
    "\n",
    "x = plt.figure().subplots()\n",
    "y = plt.figure().subplots()\n",
    "z = plt.figure().subplots()\n",
    "z.invert_yaxis()\n",
    "\n",
    "legends = [ [ ], [ ], [ ] ]\n",
    "\n",
    "for k, v in positions.items():\n",
    "  position = previous_actual_trajectory[ :, v ]\n",
    "\n",
    "  X = position[ :, 0 ]\n",
    "  Y = position[ :, 1 ]\n",
    "  Z = position[ :, 2 ]\n",
    "\n",
    "  x.plot( previous_times, X )\n",
    "  y.plot( previous_times, Y )\n",
    "  z.plot( previous_times, Z )\n",
    "\n",
    "  for i in range( 3 ):\n",
    "    legends[ i ] += [ f'{k}' ]\n",
    "\n",
    "  if norm( pose_weight[ v, v ][ :, 0 ] ) > 0:\n",
    "    target = previous_target_trajectory[ :, v ][ :, 0 ]\n",
    "    x.plot( previous_times, target, ':', linewidth = 3 )\n",
    "    legends[ 0 ] += [ f'{k} target' ]\n",
    "\n",
    "  if norm( pose_weight[ v, v ][ :, 1 ] ) > 0:\n",
    "    target = previous_target_trajectory[ :, v ][ :, 1 ]\n",
    "    y.plot( previous_times, target, ':', linewidth = 3 )\n",
    "    legends[ 1 ] += [ f'{k} target' ]\n",
    "\n",
    "  if norm( pose_weight[ v, v ][ :, 2 ] ) > 0:\n",
    "    target = previous_target_trajectory[ :, v ][ :, 2 ]\n",
    "    z.plot( previous_times, target, ':', linewidth = 3 )\n",
    "    legends[ 2 ] += [ f'{k} target' ]\n",
    "\n",
    "for f in plt.get_fignums():\n",
    "  fig = plt.figure( f )\n",
    "  plt.legend( legends[ f - 1 ] )\n",
    "  plt.xlabel( 'time [s]' )\n",
    "  plt.ylabel( f'position on $\\\\mathbf{{{figs[ f - 1 ]}}}_w$-axis [m]' )\n",
    "  plt.subplots_adjust( bottom = 0.125, top = 1, left = 0.075, right = 1 )\n",
    "  plt.savefig( f'{folder}/plots/positions_on_{figs[ f - 1 ]}_{uuid}.png', dpi = 300 )\n",
    "plt.close( 'all' )"
   ],
   "outputs": [],
   "execution_count": 61
  },
  {
   "cell_type": "code",
   "id": "93f40afd47b7d607",
   "metadata": {
    "ExecuteTime": {
     "end_time": "2025-01-28T20:49:06.130996Z",
     "start_time": "2025-01-28T20:49:05.488019Z"
    }
   },
   "source": [
    "figs = [ 'x', 'y', 'z', 'norm' ]\n",
    "\n",
    "x = plt.figure().subplots()\n",
    "y = plt.figure().subplots()\n",
    "z = plt.figure().subplots()\n",
    "n = plt.figure().subplots()\n",
    "z.invert_yaxis()\n",
    "\n",
    "legends = [ [ ], [ ], [ ], [ ] ]\n",
    "\n",
    "for k, v in speeds.items():\n",
    "  speed = previous_actual_trajectory[ :, v ]\n",
    "\n",
    "  X = speed[ :, 0 ]\n",
    "  Y = speed[ :, 1 ]\n",
    "  Z = speed[ :, 2 ]\n",
    "  N = norm( speed, axis = 1 )\n",
    "\n",
    "  x.plot( previous_times, X )\n",
    "  y.plot( previous_times, Y )\n",
    "  z.plot( previous_times, Z )\n",
    "  n.plot( previous_times, N )\n",
    "\n",
    "  for i in range( 4 ):\n",
    "    legends[ i ] += [ f'{k}' ]\n",
    "\n",
    "for f in plt.get_fignums():\n",
    "  fig = plt.figure( f )\n",
    "  plt.legend( legends[ f - 1 ] )\n",
    "  plt.xlabel( 'time [s]' )\n",
    "  plt.ylabel( f'speed on $\\\\mathbf{{{figs[ f - 1 ]}}}_r$-axis [m/s]' )\n",
    "  plt.subplots_adjust( bottom = 0.125, top = 1, left = 0.075, right = 1 )\n",
    "  plt.savefig( f'{folder}/plots/speeds_on_{figs[ f - 1 ]}_{uuid}.png', dpi = 300 )\n",
    "plt.close( 'all' )"
   ],
   "outputs": [],
   "execution_count": 62
  },
  {
   "cell_type": "code",
   "id": "fa7d95363674979c",
   "metadata": {
    "ExecuteTime": {
     "end_time": "2025-01-28T20:49:06.326054Z",
     "start_time": "2025-01-28T20:49:06.175036Z"
    }
   },
   "source": [
    "plt.plot( previous_times, final_state[ 'compute_times' ] )\n",
    "plt.hlines(\n",
    "    config[ 'time_step' ] * config[ 'horizon' ] * config[ 'time_step_prediction_factor' ],\n",
    "    0,\n",
    "    previous_times[ -1 ],\n",
    "    'r',\n",
    "    '--'\n",
    "    )\n",
    "plt.legend( [ 'compute time', 'horizon depth' ] )\n",
    "plt.xlabel( 'time [s]' )\n",
    "plt.ylabel( 'time [s]' )\n",
    "plt.subplots_adjust( bottom = 0.125, top = 1, left = 0.075, right = 1 )\n",
    "plt.savefig( f'{folder}/plots/compute_times_{uuid}.png', dpi = 300 )\n",
    "plt.close( 'all' )"
   ],
   "outputs": [],
   "execution_count": 63
  },
  {
   "cell_type": "code",
   "id": "ad389f2c68bbfa6f",
   "metadata": {
    "ExecuteTime": {
     "end_time": "2025-01-28T20:49:07.570516Z",
     "start_time": "2025-01-28T20:49:06.413768Z"
    }
   },
   "source": [
    "frames_already_done = check( f'{folder}/plots/3d_frames' )"
   ],
   "outputs": [],
   "execution_count": 64
  },
  {
   "cell_type": "code",
   "id": "634fcfd31d96cf19",
   "metadata": {
    "ExecuteTime": {
     "end_time": "2025-01-28T20:49:12.447289Z",
     "start_time": "2025-01-28T20:49:07.695685Z"
    }
   },
   "source": [
    "robots_colors = { '0': 'r', '1': 'g', '2': 'b', '3': 'y', '4': 'm' }\n",
    "quiver_scale = .5\n",
    "box = [ [ -6.5, 4.5 ], [ -5.5, 5.5 ], [ -5, 6 ] ]\n",
    "\n",
    "water_current = config[ 'model' ][ 'dynamics' ][ 'br_0' ][ 'water_current' ]\n",
    "water_surface = config[ 'model' ][ 'dynamics' ][ 'br_0' ][ 'water_surface_depth' ]\n",
    "\n",
    "Xc = linspace( box[ 0 ][ 0 ], box[ 0 ][ 1 ], 5 )\n",
    "Yc = linspace( box[ 1 ][ 0 ], box[ 1 ][ 1 ], 5 )\n",
    "Zc = linspace(\n",
    "    box[ 2 ][ 0 ] if box[ 2 ][ 0 ] > water_surface else water_surface,\n",
    "    box[ 2 ][ 1 ],\n",
    "    5\n",
    "    )\n",
    "\n",
    "Xc, Yc, Zc = meshgrid( Xc, Yc, Zc )\n",
    "\n",
    "Uc = water_current[ 0 ] * ones( Xc.shape )\n",
    "Vc = water_current[ 1 ] * ones( Xc.shape )\n",
    "Wc = water_current[ 2 ] * ones( Xc.shape )\n",
    "\n",
    "Xs = linspace( box[ 0 ][ 0 ], box[ 0 ][ 1 ], 1000 )\n",
    "Ys = linspace( box[ 1 ][ 0 ], box[ 1 ][ 1 ], 1000 )\n",
    "Xg, Yg = meshgrid( Xs, Ys )\n",
    "Zws = water_surface * ones( Xg.shape )\n",
    "Zsf = zeros( Xg.shape )\n",
    "Zsfx = zeros( Xs.shape )\n",
    "Zsfy = zeros( Ys.shape )\n",
    "\n",
    "for i, y in enumerate( Ys ):\n",
    "  Zsfy[ i ] = seafloor.get_seafloor_depth( array( [ 0, y, 0 ] ) )\n",
    "  for j, x in enumerate( Xs ):\n",
    "    Zsf[ i, j ] = seafloor.get_seafloor_depth( array( [ x, y, 0 ] ) )\n",
    "    if i == 0:\n",
    "      Zsfx[ j ] = seafloor.get_seafloor_depth( array( [ x, 0, 0 ] ) )\n",
    "\n",
    "plot_dynamics = check( f'{folder}/data/dynamic_cable', prompt = False ) == len( positions_pairs )\n",
    "dynamics = { }\n",
    "if plot_dynamics:\n",
    "  for bri, brj in positions_pairs.items():\n",
    "    dynamics[ f'{bri}_{brj}' ] = read_csv( f'{folder}/data/dynamic_cable/{bri}_{brj}.csv' )\n",
    "    # [ float( v ) for v in data[ 'x' ].strip( '[]' ).split( ',' ) ]\n",
    "\n",
    "for frame in tqdm( range( frames_already_done, n_frames ) ):\n",
    "  if frame - frames_already_done >= 50:\n",
    "    raise MemoryError( 'Memory is about to be filled, erroring out to avoid computer crash' )\n",
    "  with open( data_files[ int( frame / save_rate ) ] ) as f:\n",
    "    simulation_state = json.load( f )\n",
    "  predicted_trajectories = array( simulation_state[ 'predicted_trajectories' ] )\n",
    "  if predicted_trajectories.shape[ 0 ] > 100:\n",
    "    predicted_trajectories = predicted_trajectories[ ::predicted_trajectories.shape[ 0 ] // 100 ]\n",
    "\n",
    "  fig = plt.figure( figsize = (10, 10) )\n",
    "  view = plt.subplot( projection = '3d', computed_zorder = False )\n",
    "  view.set_xlabel( r\"$\\mathbf{x}_w$-axis\" )\n",
    "  view.set_ylabel( r\"$\\mathbf{y}_w$-axis\" )\n",
    "  view.set_zlabel( r\"$\\mathbf{z}_w$-axis\" )\n",
    "  view.set_xlim( *box[ 0 ] )\n",
    "  view.set_ylim( *box[ 1 ] )\n",
    "  view.set_zlim( *box[ 2 ] )\n",
    "  view.invert_yaxis()\n",
    "  view.invert_zaxis()\n",
    "\n",
    "  inset_view_xz = view.inset_axes( [ .0, .0, .2, .2 ] )\n",
    "  inset_view_xz.set_xlabel( r\"$\\mathbf{x}_w$-axis\" )\n",
    "  inset_view_xz.set_ylabel( r\"$\\mathbf{z}_w$-axis\" )\n",
    "  inset_view_xz.set_xlim( *box[ 0 ] )\n",
    "  inset_view_xz.set_ylim( *box[ 2 ] )\n",
    "  inset_view_xz.invert_yaxis()\n",
    "\n",
    "  inset_view_yz = view.inset_axes( [ .8, .0, .2, .2 ] )\n",
    "  inset_view_yz.set_xlabel( r\"$\\mathbf{y}_w$-axis\" )\n",
    "  inset_view_yz.set_ylabel( r\"$\\mathbf{z}_w$-axis\" )\n",
    "  inset_view_yz.set_xlim( *box[ 1 ] )\n",
    "  inset_view_yz.set_ylim( *box[ 2 ] )\n",
    "  inset_view_yz.invert_yaxis()\n",
    "  inset_view_yz.invert_xaxis()\n",
    "\n",
    "  inset_view_xy = view.inset_axes( [ .0, .8, .2, .2 ] )\n",
    "  inset_view_xy.set_xlabel( r\"$\\mathbf{x}_w$-axis\" )\n",
    "  inset_view_xy.set_ylabel( r\"$\\mathbf{y}_w$-axis\" )\n",
    "  inset_view_xy.set_xlim( *box[ 0 ] )\n",
    "  inset_view_xy.set_ylim( *box[ 1 ] )\n",
    "  inset_view_xy.invert_yaxis()\n",
    "\n",
    "  view.quiver( Xc, Yc, Zc, Uc, Vc, Wc, color = 'navy' )\n",
    "  view.plot_surface( Xg, Yg, Zsf, color = 'brown', zorder = 0. )\n",
    "  view.plot_surface( Xg, Yg, Zws, color = 'navy', alpha = 0.1 )\n",
    "\n",
    "  inset_view_xy.pcolormesh( Xg, Yg, Zsf, cmap = 'RdBu' )\n",
    "  inset_view_xz.plot( Xs, Zsfx, color = 'brown', zorder = 0. )\n",
    "  inset_view_yz.plot( Ys, Zsfy, color = 'brown', zorder = 0. )\n",
    "  inset_view_xz.axhline( water_surface, color = 'navy' )\n",
    "  inset_view_yz.axhline( water_surface, color = 'navy' )\n",
    "\n",
    "  for k, v in pose.items():\n",
    "\n",
    "    color = robots_colors[ k.split( '_' )[ 1 ] ]\n",
    "\n",
    "    if norm( pose_weight[ v, v ][ :3, :3 ] ) > 0:\n",
    "      Xt = target_trajectory[ :, v ][ :, 0 ]\n",
    "      Yt = target_trajectory[ :, v ][ :, 1 ]\n",
    "      Zt = target_trajectory[ :, v ][ :, 2 ]\n",
    "\n",
    "      view.plot( Xt, Yt, Zt, ':', color = 'k' )\n",
    "      view.scatter( Xt[ frame + 1 ], Yt[ frame + 1 ], Zt[ frame + 1 ], marker = 'x', color = 'k' )\n",
    "      inset_view_xz.plot( Xt, Zt, ':', color = 'k' )\n",
    "      inset_view_xz.scatter( Xt[ frame + 1 ], Zt[ frame + 1 ], marker = 'x', color = 'k' )\n",
    "      inset_view_yz.plot( Yt, Zt, ':', color = 'k' )\n",
    "      inset_view_yz.scatter( Yt[ frame + 1 ], Zt[ frame + 1 ], marker = 'x', color = 'k' )\n",
    "      inset_view_xy.plot( Xt, Yt, ':', color = 'k' )\n",
    "      inset_view_xy.scatter( Xt[ frame + 1 ], Yt[ frame + 1 ], marker = 'x', color = 'k' )\n",
    "\n",
    "    X = previous_actual_trajectory[ frame, v ][ 0 ]\n",
    "    Y = previous_actual_trajectory[ frame, v ][ 1 ]\n",
    "    Z = previous_actual_trajectory[ frame, v ][ 2 ]\n",
    "\n",
    "    P = previous_actual_trajectory[ frame, v ][ :3 ]\n",
    "    A = previous_actual_trajectory[ frame, v ][ 3:6 ]\n",
    "    R = Rotation.from_euler( 'xyz', A ).as_matrix()\n",
    "\n",
    "    view.quiver( *P, *(R @ array( [ quiver_scale, 0., 0. ] )), color = 'r' )\n",
    "    view.quiver( *P, *(R @ array( [ 0., quiver_scale, 0. ] )), color = 'g' )\n",
    "    view.quiver( *P, *(R @ array( [ 0., 0., quiver_scale ] )), color = 'b' )\n",
    "\n",
    "    view.scatter( X, Y, Z, color = color )\n",
    "    inset_view_xz.scatter( X, Z, color = color )\n",
    "    inset_view_yz.scatter( Y, Z, color = color )\n",
    "    inset_view_xy.scatter( X, Y, color = color )\n",
    "\n",
    "    for trajectory in predicted_trajectories:\n",
    "      X = trajectory[ :, 0, v ][ :, 0 ]\n",
    "      Y = trajectory[ :, 0, v ][ :, 1 ]\n",
    "      Z = trajectory[ :, 0, v ][ :, 2 ]\n",
    "\n",
    "      view.plot( X, Y, Z, linewidth = .5, color = color )\n",
    "      inset_view_xz.plot( X, Z, linewidth = .5, color = color )\n",
    "      inset_view_yz.plot( Y, Z, linewidth = .5, color = color )\n",
    "      inset_view_xy.plot( X, Y, linewidth = .5, color = color )\n",
    "\n",
    "  for p1, p2 in positions_pairs.items():\n",
    "\n",
    "    color = robots_colors[ p1.split( '_' )[ 1 ] ]\n",
    "\n",
    "    position_1 = deepcopy( previous_actual_trajectory[ frame, positions[ p1 + '_position' ] ] )\n",
    "    position_2 = deepcopy( previous_actual_trajectory[ frame, positions[ p2 + '_position' ] ] )\n",
    "\n",
    "    name = f'c_{p1.split( \"_\" )[ -1 ]}{p2.split( \"_\" )[ -1 ]}'\n",
    "    cat = Catenary(\n",
    "        config[ 'model' ][ 'dynamics' ][ name ][ 'length' ],\n",
    "        config[ 'model' ][ 'dynamics' ][ name ][ 'linear_mass' ]\n",
    "        )\n",
    "\n",
    "    cat_12 = cat.discretize( position_1, position_2 )\n",
    "\n",
    "    view.plot( cat_12[ :, 0 ], cat_12[ :, 1 ], cat_12[ :, 2 ], color = color )\n",
    "    inset_view_xz.plot( cat_12[ :, 0 ], cat_12[ :, 2 ], color = color )\n",
    "    inset_view_yz.plot( cat_12[ :, 1 ], cat_12[ :, 2 ], color = color )\n",
    "    inset_view_xy.plot( cat_12[ :, 0 ], cat_12[ :, 1 ], color = color )\n",
    "\n",
    "    if plot_dynamics:\n",
    "      try:\n",
    "        cable_12_x = [ float( v ) for v in dynamics[ f'{p1}_{p2}' ][ 'x' ][ frame ].strip( '[]' ).split( ',' ) ]\n",
    "        cable_12_y = [ float( v ) for v in dynamics[ f'{p1}_{p2}' ][ 'y' ][ frame ].strip( '[]' ).split( ',' ) ]\n",
    "        cable_12_z = [ -float( v ) for v in dynamics[ f'{p1}_{p2}' ][ 'z' ][ frame ].strip( '[]' ).split( ',' ) ]\n",
    "\n",
    "        view.plot( cable_12_x, cable_12_y, cable_12_z, color = color, linestyle = '-.' )\n",
    "        inset_view_xz.plot( cable_12_x, cable_12_z, color = color, linestyle = '-.' )\n",
    "        inset_view_yz.plot( cable_12_y, cable_12_z, color = color, linestyle = '-.' )\n",
    "        inset_view_xy.plot( cable_12_x, cable_12_y, color = color, linestyle = '-.' )\n",
    "      except:\n",
    "        pass\n",
    "\n",
    "  plt.savefig( f'{folder}/plots/3d_frames/{frame}.png', dpi = 100 )\n",
    "  plt.close( 'all' )\n",
    "  del fig, view, inset_view_xz, inset_view_yz, inset_view_xy"
   ],
   "outputs": [
    {
     "name": "stderr",
     "output_type": "stream",
     "text": [
      "0it [00:00, ?it/s]\n"
     ]
    }
   ],
   "execution_count": 65
  },
  {
   "cell_type": "code",
   "id": "70338ea0a686564",
   "metadata": {
    "ExecuteTime": {
     "end_time": "2025-01-28T20:49:17.824969Z",
     "start_time": "2025-01-28T20:49:12.498570Z"
    }
   },
   "source": [
    "collect()"
   ],
   "outputs": [
    {
     "data": {
      "text/plain": [
       "6160456"
      ]
     },
     "execution_count": 66,
     "metadata": {},
     "output_type": "execute_result"
    }
   ],
   "execution_count": 66
  },
  {
   "cell_type": "code",
   "id": "eb26e196bad38112",
   "metadata": {
    "ExecuteTime": {
     "end_time": "2025-01-28T20:49:32.075642Z",
     "start_time": "2025-01-28T20:49:17.873037Z"
    }
   },
   "source": [
    "gif_from_pngs( f'{folder}/plots/3d_frames', duration = config[ 'model' ][ 'time_step' ] * 1000 )"
   ],
   "outputs": [],
   "execution_count": 67
  },
  {
   "cell_type": "code",
   "id": "f79cbacba01f8091",
   "metadata": {
    "ExecuteTime": {
     "end_time": "2025-01-28T20:49:32.311963Z",
     "start_time": "2025-01-28T20:49:32.146912Z"
    }
   },
   "source": [
    "collect()"
   ],
   "outputs": [
    {
     "data": {
      "text/plain": [
       "0"
      ]
     },
     "execution_count": 68,
     "metadata": {},
     "output_type": "execute_result"
    }
   ],
   "execution_count": 68
  },
  {
   "cell_type": "code",
   "id": "21caf7a3eeacdfe0",
   "metadata": {
    "ExecuteTime": {
     "end_time": "2025-01-28T20:49:34.495798Z",
     "start_time": "2025-01-28T20:49:32.371260Z"
    }
   },
   "source": [
    "system( f'ffmpeg -y -i {folder}/plots/3d_frames/animation.gif {folder}/plots/animation.mp4' )"
   ],
   "outputs": [
    {
     "data": {
      "text/plain": [
       "0"
      ]
     },
     "execution_count": 69,
     "metadata": {},
     "output_type": "execute_result"
    }
   ],
   "execution_count": 69
  },
  {
   "cell_type": "code",
   "id": "a8162b19",
   "metadata": {
    "ExecuteTime": {
     "end_time": "2025-01-28T20:49:43.955575Z",
     "start_time": "2025-01-28T20:49:34.568379Z"
    }
   },
   "source": [
    "br_0_pose = slice_repository[ 'br_0_pose' ]\n",
    "br_1_pose = slice_repository[ 'br_1_pose' ]\n",
    "br_2_pose = slice_repository[ 'br_2_pose' ]\n",
    "br_3_pose = slice_repository[ 'br_3_pose' ]\n",
    "br_0_speed = slice_repository[ 'br_0_speed' ]\n",
    "br_1_speed = slice_repository[ 'br_1_speed' ]\n",
    "br_2_speed = slice_repository[ 'br_2_speed' ]\n",
    "br_3_speed = slice_repository[ 'br_3_speed' ]\n",
    "recorded_states = final_state[ 'model' ][ 'previous_states' ]\n",
    "\n",
    "check( f'{folder}/data/other' )\n",
    "with open( f'{folder}/data/other/robots_poses_{uuid}.csv', 'w' ) as f:\n",
    "  f.write( 'br0 x, br0 y, br0 z, br0 phi, br0 theta, br0 psi, br0 u, br0 v, br0 w, br0 p, br0 q, br0 r,' )\n",
    "  f.write( 'br1 x, br1 y, br1 z, br1 phi, br1 theta, br1 psi, br1 u, br1 v, br1 w, br1 p, br1 q, br1 r,' )\n",
    "  f.write( 'br2 x, br2 y, br2 z, br2 phi, br2 theta, br2 psi, br2 u, br2 v, br2 w, br2 p, br2 q, br2 r,' )\n",
    "  f.write( 'br3 x, br3 y, br3 z, br3 phi, br3 theta, br3 psi, br3 u, br3 v, br3 w, br3 p, br3 q, br3 r\\n' )\n",
    "\n",
    "  for state in recorded_states:\n",
    "    br0 = state[ br_0_pose ] + state[ br_0_speed ]\n",
    "    br1 = state[ br_1_pose ] + state[ br_1_speed ]\n",
    "    br2 = state[ br_2_pose ] + state[ br_2_speed ]\n",
    "    br3 = state[ br_3_pose ] + state[ br_3_speed ]\n",
    "\n",
    "    f.write( ','.join( [ f'{v}' for v in br0 ] ) + ',' )\n",
    "    f.write( ','.join( [ f'{v}' for v in br1 ] ) + ',' )\n",
    "    f.write( ','.join( [ f'{v}' for v in br2 ] ) + ',' )\n",
    "    f.write( ','.join( [ f'{v}' for v in br3 ] ) + '\\n' )\n",
    "\n"
   ],
   "outputs": [],
   "execution_count": 70
  }
 ],
 "metadata": {
  "kernelspec": {
   "display_name": "venv_312",
   "language": "python",
   "name": "python3"
  },
  "language_info": {
   "codemirror_mode": {
    "name": "ipython",
    "version": 3
   },
   "file_extension": ".py",
   "mimetype": "text/x-python",
   "name": "python",
   "nbconvert_exporter": "python",
   "pygments_lexer": "ipython3",
   "version": "3.12.6"
  }
 },
 "nbformat": 4,
 "nbformat_minor": 5
}
