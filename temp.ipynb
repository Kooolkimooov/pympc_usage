{
 "cells": [
  {
   "cell_type": "code",
   "execution_count": 3,
   "metadata": {},
   "outputs": [],
   "source": [
    "from models.dynamics.catenary import Catenary\n",
    "import numpy as np\n",
    "from sysidentpy.model_structure_selection import FROLS\n",
    "from sysidentpy.basis_function._basis_function import Polynomial\n",
    "from sysidentpy.parameter_estimation import LeastSquares"
   ]
  },
  {
   "cell_type": "code",
   "execution_count": 4,
   "metadata": {},
   "outputs": [],
   "source": [
    "cat = Catenary(length=3., get_parameter_method='precompute', reference_frame='ENU')"
   ]
  },
  {
   "cell_type": "code",
   "execution_count": 7,
   "metadata": {},
   "outputs": [],
   "source": [
    "X = np.array([cat._dHs, cat._two_D_plus_dDs])\n",
    "Y = np.array(cat._Cs)\n",
    "\n",
    "basis_function = Polynomial(degree=2)\n",
    "estimator = LeastSquares()\n",
    "\n",
    "model = FROLS(\n",
    "    order_selection=True,\n",
    "    n_terms=4,\n",
    "    ylag=2,\n",
    "    xlag=[[1, 2]],\n",
    "    info_criteria=\"aic\",\n",
    "    estimator=estimator,\n",
    "    basis_function=basis_function,\n",
    "    err_tol=None,\n",
    ")"
   ]
  },
  {
   "cell_type": "code",
   "execution_count": 8,
   "metadata": {},
   "outputs": [
    {
     "ename": "IndexError",
     "evalue": "list index out of range",
     "output_type": "error",
     "traceback": [
      "\u001B[1;31m---------------------------------------------------------------------------\u001B[0m",
      "\u001B[1;31mIndexError\u001B[0m                                Traceback (most recent call last)",
      "Cell \u001B[1;32mIn[8], line 1\u001B[0m\n\u001B[1;32m----> 1\u001B[0m \u001B[43mmodel\u001B[49m\u001B[38;5;241;43m.\u001B[39;49m\u001B[43mfit\u001B[49m\u001B[43m(\u001B[49m\u001B[43mX\u001B[49m\u001B[38;5;241;43m=\u001B[39;49m\u001B[43mX\u001B[49m\u001B[43m,\u001B[49m\u001B[43m \u001B[49m\u001B[43my\u001B[49m\u001B[38;5;241;43m=\u001B[39;49m\u001B[43mY\u001B[49m\u001B[43m)\u001B[49m\n",
      "File \u001B[1;32mc:\\dev\\mpc_test\\venv_312\\Lib\\site-packages\\sysidentpy\\model_structure_selection\\forward_regression_orthogonal_least_squares.py:602\u001B[0m, in \u001B[0;36mFROLS.fit\u001B[1;34m(self, X, y)\u001B[0m\n\u001B[0;32m    599\u001B[0m     \u001B[38;5;28;01mraise\u001B[39;00m \u001B[38;5;167;01mValueError\u001B[39;00m(\u001B[38;5;124m\"\u001B[39m\u001B[38;5;124my cannot be None\u001B[39m\u001B[38;5;124m\"\u001B[39m)\n\u001B[0;32m    601\u001B[0m \u001B[38;5;28mself\u001B[39m\u001B[38;5;241m.\u001B[39mmax_lag \u001B[38;5;241m=\u001B[39m \u001B[38;5;28mself\u001B[39m\u001B[38;5;241m.\u001B[39m_get_max_lag()\n\u001B[1;32m--> 602\u001B[0m lagged_data \u001B[38;5;241m=\u001B[39m \u001B[38;5;28;43mself\u001B[39;49m\u001B[38;5;241;43m.\u001B[39;49m\u001B[43mbuild_matrix\u001B[49m\u001B[43m(\u001B[49m\u001B[43mX\u001B[49m\u001B[43m,\u001B[49m\u001B[43m \u001B[49m\u001B[43my\u001B[49m\u001B[43m)\u001B[49m\n\u001B[0;32m    604\u001B[0m reg_matrix \u001B[38;5;241m=\u001B[39m \u001B[38;5;28mself\u001B[39m\u001B[38;5;241m.\u001B[39mbasis_function\u001B[38;5;241m.\u001B[39mfit(\n\u001B[0;32m    605\u001B[0m     lagged_data, \u001B[38;5;28mself\u001B[39m\u001B[38;5;241m.\u001B[39mmax_lag, predefined_regressors\u001B[38;5;241m=\u001B[39m\u001B[38;5;28;01mNone\u001B[39;00m\n\u001B[0;32m    606\u001B[0m )\n\u001B[0;32m    608\u001B[0m \u001B[38;5;28;01mif\u001B[39;00m X \u001B[38;5;129;01mis\u001B[39;00m \u001B[38;5;129;01mnot\u001B[39;00m \u001B[38;5;28;01mNone\u001B[39;00m:\n",
      "File \u001B[1;32mc:\\dev\\mpc_test\\venv_312\\Lib\\site-packages\\sysidentpy\\narmax_base.py:275\u001B[0m, in \u001B[0;36mInformationMatrix.build_input_output_matrix\u001B[1;34m(self, X, y)\u001B[0m\n\u001B[0;32m    252\u001B[0m \u001B[38;5;250m\u001B[39m\u001B[38;5;124;03m\"\"\"Build the information matrix.\u001B[39;00m\n\u001B[0;32m    253\u001B[0m \n\u001B[0;32m    254\u001B[0m \u001B[38;5;124;03mEach columns of the information matrix represents a candidate\u001B[39;00m\n\u001B[1;32m   (...)\u001B[0m\n\u001B[0;32m    269\u001B[0m \n\u001B[0;32m    270\u001B[0m \u001B[38;5;124;03m\"\"\"\u001B[39;00m\n\u001B[0;32m    271\u001B[0m \u001B[38;5;66;03m# Generate a lagged data which each column is a input or output\u001B[39;00m\n\u001B[0;32m    272\u001B[0m \u001B[38;5;66;03m# related to its respective lags. With this approach we can create\u001B[39;00m\n\u001B[0;32m    273\u001B[0m \u001B[38;5;66;03m# the information matrix by using all possible combination of\u001B[39;00m\n\u001B[0;32m    274\u001B[0m \u001B[38;5;66;03m# the columns as a product in the iterations\u001B[39;00m\n\u001B[1;32m--> 275\u001B[0m lagged_data \u001B[38;5;241m=\u001B[39m \u001B[38;5;28;43mself\u001B[39;49m\u001B[38;5;241;43m.\u001B[39;49m\u001B[43minitial_lagged_matrix\u001B[49m\u001B[43m(\u001B[49m\u001B[43mX\u001B[49m\u001B[43m,\u001B[49m\u001B[43m \u001B[49m\u001B[43my\u001B[49m\u001B[43m)\u001B[49m\n\u001B[0;32m    276\u001B[0m constant \u001B[38;5;241m=\u001B[39m np\u001B[38;5;241m.\u001B[39mones([lagged_data\u001B[38;5;241m.\u001B[39mshape[\u001B[38;5;241m0\u001B[39m], \u001B[38;5;241m1\u001B[39m])\n\u001B[0;32m    277\u001B[0m data \u001B[38;5;241m=\u001B[39m np\u001B[38;5;241m.\u001B[39mconcatenate([constant, lagged_data], axis\u001B[38;5;241m=\u001B[39m\u001B[38;5;241m1\u001B[39m)\n",
      "File \u001B[1;32mc:\\dev\\mpc_test\\venv_312\\Lib\\site-packages\\sysidentpy\\narmax_base.py:185\u001B[0m, in \u001B[0;36mInformationMatrix.initial_lagged_matrix\u001B[1;34m(self, X, y)\u001B[0m\n\u001B[0;32m    183\u001B[0m n_inputs, \u001B[38;5;28mself\u001B[39m\u001B[38;5;241m.\u001B[39mxlag \u001B[38;5;241m=\u001B[39m \u001B[38;5;28mself\u001B[39m\u001B[38;5;241m.\u001B[39m_process_xlag(X)\n\u001B[0;32m    184\u001B[0m \u001B[38;5;28mself\u001B[39m\u001B[38;5;241m.\u001B[39mylag \u001B[38;5;241m=\u001B[39m \u001B[38;5;28mself\u001B[39m\u001B[38;5;241m.\u001B[39m_process_ylag()\n\u001B[1;32m--> 185\u001B[0m x_lagged \u001B[38;5;241m=\u001B[39m \u001B[38;5;28;43mself\u001B[39;49m\u001B[38;5;241;43m.\u001B[39;49m\u001B[43m_create_lagged_X\u001B[49m\u001B[43m(\u001B[49m\u001B[43mX\u001B[49m\u001B[43m,\u001B[49m\u001B[43m \u001B[49m\u001B[43mn_inputs\u001B[49m\u001B[43m)\u001B[49m\n\u001B[0;32m    186\u001B[0m y_lagged \u001B[38;5;241m=\u001B[39m \u001B[38;5;28mself\u001B[39m\u001B[38;5;241m.\u001B[39m_create_lagged_y(y)\n\u001B[0;32m    187\u001B[0m lagged_data \u001B[38;5;241m=\u001B[39m np\u001B[38;5;241m.\u001B[39mconcatenate([y_lagged, x_lagged], axis\u001B[38;5;241m=\u001B[39m\u001B[38;5;241m1\u001B[39m)\n",
      "File \u001B[1;32mc:\\dev\\mpc_test\\venv_312\\Lib\\site-packages\\sysidentpy\\narmax_base.py:132\u001B[0m, in \u001B[0;36mInformationMatrix._create_lagged_X\u001B[1;34m(self, X, n_inputs)\u001B[0m\n\u001B[0;32m    129\u001B[0m xlag \u001B[38;5;241m=\u001B[39m [[i] \u001B[38;5;28;01mif\u001B[39;00m \u001B[38;5;28misinstance\u001B[39m(i, \u001B[38;5;28mint\u001B[39m) \u001B[38;5;28;01melse\u001B[39;00m i \u001B[38;5;28;01mfor\u001B[39;00m i \u001B[38;5;129;01min\u001B[39;00m \u001B[38;5;28mself\u001B[39m\u001B[38;5;241m.\u001B[39mxlag]\n\u001B[0;32m    130\u001B[0m \u001B[38;5;28;01mfor\u001B[39;00m col \u001B[38;5;129;01min\u001B[39;00m \u001B[38;5;28mrange\u001B[39m(n_inputs):\n\u001B[0;32m    131\u001B[0m     x_lagged_col \u001B[38;5;241m=\u001B[39m np\u001B[38;5;241m.\u001B[39mcolumn_stack(\n\u001B[1;32m--> 132\u001B[0m         [\u001B[38;5;28mself\u001B[39m\u001B[38;5;241m.\u001B[39mshift_column(X[:, col], lag) \u001B[38;5;28;01mfor\u001B[39;00m lag \u001B[38;5;129;01min\u001B[39;00m \u001B[43mxlag\u001B[49m\u001B[43m[\u001B[49m\u001B[43mcol\u001B[49m\u001B[43m]\u001B[49m]\n\u001B[0;32m    133\u001B[0m     )\n\u001B[0;32m    134\u001B[0m     x_lagged \u001B[38;5;241m=\u001B[39m np\u001B[38;5;241m.\u001B[39mcolumn_stack([x_lagged, x_lagged_col])\n\u001B[0;32m    136\u001B[0m x_lagged \u001B[38;5;241m=\u001B[39m x_lagged[:, \u001B[38;5;241m1\u001B[39m:]  \u001B[38;5;66;03m# remove the column of 0 created above\u001B[39;00m\n",
      "\u001B[1;31mIndexError\u001B[0m: list index out of range"
     ]
    }
   ],
   "source": [
    "model.fit(X=X, y=Y)"
   ]
  }
 ],
 "metadata": {
  "kernelspec": {
   "display_name": "venv_312",
   "language": "python",
   "name": "python3"
  },
  "language_info": {
   "codemirror_mode": {
    "name": "ipython",
    "version": 3
   },
   "file_extension": ".py",
   "mimetype": "text/x-python",
   "name": "python",
   "nbconvert_exporter": "python",
   "pygments_lexer": "ipython3",
   "version": "3.12.6"
  }
 },
 "nbformat": 4,
 "nbformat_minor": 2
}
